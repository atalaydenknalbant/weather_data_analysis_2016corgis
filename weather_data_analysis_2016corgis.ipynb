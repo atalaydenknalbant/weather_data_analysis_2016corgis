{
  "nbformat": 4,
  "nbformat_minor": 0,
  "metadata": {
    "colab": {
      "name": "weather_data_analysis_2016corgis.ipynb",
      "provenance": [],
      "collapsed_sections": [],
      "toc_visible": true,
      "authorship_tag": "ABX9TyOMi7NqREUiaLaDUVFVtfAq",
      "include_colab_link": true
    },
    "kernelspec": {
      "name": "python3",
      "display_name": "Python 3"
    },
    "language_info": {
      "name": "python"
    }
  },
  "cells": [
    {
      "cell_type": "markdown",
      "metadata": {
        "id": "view-in-github",
        "colab_type": "text"
      },
      "source": [
        "<a href=\"https://colab.research.google.com/github/atalaydenknalbant/weather_data_analysis_2016corgis/blob/main/weather_data_analysis_2016corgis.ipynb\" target=\"_parent\"><img src=\"https://colab.research.google.com/assets/colab-badge.svg\" alt=\"Open In Colab\"/></a>"
      ]
    },
    {
      "cell_type": "markdown",
      "source": [
        "# Weather Data Analysis(2016 Corgis Database) \n",
        "Source: https://corgis-edu.github.io/corgis/csv/weather/\n",
        "\n",
        "![logo.png](data:image/png;base64,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)"
      ],
      "metadata": {
        "id": "PTyyhdi71-5f"
      }
    },
    {
      "cell_type": "markdown",
      "source": [
        "## Importing Libraries"
      ],
      "metadata": {
        "id": "Q0Cff1pb16NW"
      }
    },
    {
      "cell_type": "markdown",
      "source": [
        "Make sure using python version 3.10 or higher"
      ],
      "metadata": {
        "id": "X5olD3c8h0Aj"
      }
    },
    {
      "cell_type": "code",
      "source": [
        "!python --version"
      ],
      "metadata": {
        "colab": {
          "base_uri": "https://localhost:8080/"
        },
        "id": "9Ko2C6ing_E0",
        "outputId": "9ed54457-b556-4e0c-8afa-304383875138"
      },
      "execution_count": null,
      "outputs": [
        {
          "output_type": "stream",
          "name": "stdout",
          "text": [
            "Python 3.10.4\n"
          ]
        }
      ]
    },
    {
      "cell_type": "code",
      "execution_count": null,
      "metadata": {
        "id": "q9zYJnZg4Y0z"
      },
      "outputs": [],
      "source": [
        "import tensorflow as tf\n",
        "from tensorflow import keras\n",
        "from keras import layers\n",
        "import pandas as pd\n",
        "import matplotlib.pyplot as plt\n",
        "import seaborn as sns\n",
        "import numpy as np\n",
        "import sklearn\n",
        "from sklearn import preprocessing\n",
        "from sklearn.model_selection import train_test_split\n",
        "import requests\n",
        "import json\n",
        "import plotly.express as px\n",
        "from datetime import datetime"
      ]
    },
    {
      "cell_type": "markdown",
      "source": [
        "## Loading Data"
      ],
      "metadata": {
        "id": "9pJKSZrf18Ol"
      }
    },
    {
      "cell_type": "code",
      "source": [
        "df = pd.read_csv(\"https://corgis-edu.github.io/corgis/datasets/csv/weather/weather.csv\")\n",
        "df.head()"
      ],
      "metadata": {
        "id": "i0q8t2jJtNaK",
        "colab": {
          "base_uri": "https://localhost:8080/",
          "height": 330
        },
        "outputId": "8adf35c8-dea0-423d-ddb1-6318de22ee3d"
      },
      "execution_count": null,
      "outputs": [
        {
          "output_type": "execute_result",
          "data": {
            "text/plain": [
              "   Data.Precipitation   Date.Full  Date.Month  Date.Week of  Date.Year  \\\n",
              "0                0.00  2016-01-03           1             3       2016   \n",
              "1                0.00  2016-01-03           1             3       2016   \n",
              "2                0.16  2016-01-03           1             3       2016   \n",
              "3                0.00  2016-01-03           1             3       2016   \n",
              "4                0.01  2016-01-03           1             3       2016   \n",
              "\n",
              "  Station.City Station.Code Station.Location Station.State  \\\n",
              "0   Birmingham          BHM   Birmingham, AL       Alabama   \n",
              "1   Huntsville          HSV   Huntsville, AL       Alabama   \n",
              "2       Mobile          MOB       Mobile, AL       Alabama   \n",
              "3   Montgomery          MGM   Montgomery, AL       Alabama   \n",
              "4    Anchorage          ANC    Anchorage, AK        Alaska   \n",
              "\n",
              "   Data.Temperature.Avg Temp  Data.Temperature.Max Temp  \\\n",
              "0                         39                         46   \n",
              "1                         39                         47   \n",
              "2                         46                         51   \n",
              "3                         45                         52   \n",
              "4                         34                         38   \n",
              "\n",
              "   Data.Temperature.Min Temp  Data.Wind.Direction  Data.Wind.Speed  \n",
              "0                         32                   33             4.33  \n",
              "1                         31                   32             3.86  \n",
              "2                         41                   35             9.73  \n",
              "3                         38                   32             6.86  \n",
              "4                         29                   19             7.80  "
            ],
            "text/html": [
              "<div>\n",
              "<style scoped>\n",
              "    .dataframe tbody tr th:only-of-type {\n",
              "        vertical-align: middle;\n",
              "    }\n",
              "\n",
              "    .dataframe tbody tr th {\n",
              "        vertical-align: top;\n",
              "    }\n",
              "\n",
              "    .dataframe thead th {\n",
              "        text-align: right;\n",
              "    }\n",
              "</style>\n",
              "<table border=\"1\" class=\"dataframe\">\n",
              "  <thead>\n",
              "    <tr style=\"text-align: right;\">\n",
              "      <th></th>\n",
              "      <th>Data.Precipitation</th>\n",
              "      <th>Date.Full</th>\n",
              "      <th>Date.Month</th>\n",
              "      <th>Date.Week of</th>\n",
              "      <th>Date.Year</th>\n",
              "      <th>Station.City</th>\n",
              "      <th>Station.Code</th>\n",
              "      <th>Station.Location</th>\n",
              "      <th>Station.State</th>\n",
              "      <th>Data.Temperature.Avg Temp</th>\n",
              "      <th>Data.Temperature.Max Temp</th>\n",
              "      <th>Data.Temperature.Min Temp</th>\n",
              "      <th>Data.Wind.Direction</th>\n",
              "      <th>Data.Wind.Speed</th>\n",
              "    </tr>\n",
              "  </thead>\n",
              "  <tbody>\n",
              "    <tr>\n",
              "      <th>0</th>\n",
              "      <td>0.00</td>\n",
              "      <td>2016-01-03</td>\n",
              "      <td>1</td>\n",
              "      <td>3</td>\n",
              "      <td>2016</td>\n",
              "      <td>Birmingham</td>\n",
              "      <td>BHM</td>\n",
              "      <td>Birmingham, AL</td>\n",
              "      <td>Alabama</td>\n",
              "      <td>39</td>\n",
              "      <td>46</td>\n",
              "      <td>32</td>\n",
              "      <td>33</td>\n",
              "      <td>4.33</td>\n",
              "    </tr>\n",
              "    <tr>\n",
              "      <th>1</th>\n",
              "      <td>0.00</td>\n",
              "      <td>2016-01-03</td>\n",
              "      <td>1</td>\n",
              "      <td>3</td>\n",
              "      <td>2016</td>\n",
              "      <td>Huntsville</td>\n",
              "      <td>HSV</td>\n",
              "      <td>Huntsville, AL</td>\n",
              "      <td>Alabama</td>\n",
              "      <td>39</td>\n",
              "      <td>47</td>\n",
              "      <td>31</td>\n",
              "      <td>32</td>\n",
              "      <td>3.86</td>\n",
              "    </tr>\n",
              "    <tr>\n",
              "      <th>2</th>\n",
              "      <td>0.16</td>\n",
              "      <td>2016-01-03</td>\n",
              "      <td>1</td>\n",
              "      <td>3</td>\n",
              "      <td>2016</td>\n",
              "      <td>Mobile</td>\n",
              "      <td>MOB</td>\n",
              "      <td>Mobile, AL</td>\n",
              "      <td>Alabama</td>\n",
              "      <td>46</td>\n",
              "      <td>51</td>\n",
              "      <td>41</td>\n",
              "      <td>35</td>\n",
              "      <td>9.73</td>\n",
              "    </tr>\n",
              "    <tr>\n",
              "      <th>3</th>\n",
              "      <td>0.00</td>\n",
              "      <td>2016-01-03</td>\n",
              "      <td>1</td>\n",
              "      <td>3</td>\n",
              "      <td>2016</td>\n",
              "      <td>Montgomery</td>\n",
              "      <td>MGM</td>\n",
              "      <td>Montgomery, AL</td>\n",
              "      <td>Alabama</td>\n",
              "      <td>45</td>\n",
              "      <td>52</td>\n",
              "      <td>38</td>\n",
              "      <td>32</td>\n",
              "      <td>6.86</td>\n",
              "    </tr>\n",
              "    <tr>\n",
              "      <th>4</th>\n",
              "      <td>0.01</td>\n",
              "      <td>2016-01-03</td>\n",
              "      <td>1</td>\n",
              "      <td>3</td>\n",
              "      <td>2016</td>\n",
              "      <td>Anchorage</td>\n",
              "      <td>ANC</td>\n",
              "      <td>Anchorage, AK</td>\n",
              "      <td>Alaska</td>\n",
              "      <td>34</td>\n",
              "      <td>38</td>\n",
              "      <td>29</td>\n",
              "      <td>19</td>\n",
              "      <td>7.80</td>\n",
              "    </tr>\n",
              "  </tbody>\n",
              "</table>\n",
              "</div>"
            ]
          },
          "metadata": {},
          "execution_count": 3
        }
      ]
    },
    {
      "cell_type": "markdown",
      "source": [
        "## Check null, duplicated and empty strings"
      ],
      "metadata": {
        "id": "iWjhSWBY2k7_"
      }
    },
    {
      "cell_type": "code",
      "source": [
        "print(\"Total Null Values: \\n\\n{}\".format(df.isna().sum()))\n",
        "print(len(df.value_counts(dropna=False, sort=False).reset_index(name='count')))\n",
        "i = 0\n",
        "j = 0\n",
        "for col in df.columns:\n",
        "  i+= len(df[df[col] == ''])\n",
        "  j+= df.duplicated(subset=col, keep='first').sum()\n",
        "print(\"\\nTotal empty strings: {}\".format(i))\n",
        "print(\"\\nTotal empty strings: {}\".format(j))\n"
      ],
      "metadata": {
        "id": "e7aVY7AI2kkM",
        "colab": {
          "base_uri": "https://localhost:8080/"
        },
        "outputId": "8739b728-9b4d-4aed-922f-f43aaf671722"
      },
      "execution_count": null,
      "outputs": [
        {
          "output_type": "stream",
          "name": "stdout",
          "text": [
            "Total Null Values: \n",
            "\n",
            "Data.Precipitation           0\n",
            "Date.Full                    0\n",
            "Date.Month                   0\n",
            "Date.Week of                 0\n",
            "Date.Year                    0\n",
            "Station.City                 0\n",
            "Station.Code                 0\n",
            "Station.Location             0\n",
            "Station.State                0\n",
            "Data.Temperature.Avg Temp    0\n",
            "Data.Temperature.Max Temp    0\n",
            "Data.Temperature.Min Temp    0\n",
            "Data.Wind.Direction          0\n",
            "Data.Wind.Speed              0\n",
            "dtype: int64\n",
            "16743\n",
            "\n",
            "Total empty strings: 0\n",
            "\n",
            "Total empty strings: 230887\n"
          ]
        }
      ]
    },
    {
      "cell_type": "markdown",
      "source": [
        "## Solve Duplicate State problem"
      ],
      "metadata": {
        "id": "jJnmNlTc2pR7"
      }
    },
    {
      "cell_type": "markdown",
      "source": [
        "data shows some states represented two times with their abbrevation"
      ],
      "metadata": {
        "id": "i29S0VvQyQo1"
      }
    },
    {
      "cell_type": "code",
      "source": [
        "df['Station.State'].unique()"
      ],
      "metadata": {
        "id": "M_qfNaOd2p0t",
        "colab": {
          "base_uri": "https://localhost:8080/"
        },
        "outputId": "7db53ecf-886c-48ed-ab47-7e81df1d2493"
      },
      "execution_count": null,
      "outputs": [
        {
          "output_type": "execute_result",
          "data": {
            "text/plain": [
              "array(['Alabama', 'Alaska', 'Arizona', 'Arkansas', 'California',\n",
              "       'Colorado', 'Connecticut', 'DE', 'Delaware', 'Florida', 'Georgia',\n",
              "       'Hawaii', 'Idaho', 'Illinois', 'Indiana', 'Iowa', 'Kansas',\n",
              "       'Kentucky', 'Louisiana', 'Maine', 'Maryland', 'Massachusetts',\n",
              "       'Michigan', 'Minnesota', 'Mississippi', 'Missouri', 'Montana',\n",
              "       'Nebraska', 'Nevada', 'New Hampshire', 'New Jersey', 'New Mexico',\n",
              "       'New York', 'North Carolina', 'North Dakota', 'Ohio', 'Oklahoma',\n",
              "       'Oregon', 'Pennsylvania', 'Puerto Rico', 'Rhode Island',\n",
              "       'South Carolina', 'South Dakota', 'Tennessee', 'Texas', 'Utah',\n",
              "       'VA', 'Vermont', 'Virginia', 'Washington', 'West Virginia',\n",
              "       'Wisconsin', 'Wyoming'], dtype=object)"
            ]
          },
          "metadata": {},
          "execution_count": 5
        }
      ]
    },
    {
      "cell_type": "markdown",
      "source": [
        "we need to change them to their full names"
      ],
      "metadata": {
        "id": "e6C2s6C6yr99"
      }
    },
    {
      "cell_type": "code",
      "source": [
        "df['Station.State'].replace('VA','Virginia',inplace=True)\n",
        "df['Station.State'].replace('DE','Delaware',inplace=True)"
      ],
      "metadata": {
        "id": "33rCafGKyzKB"
      },
      "execution_count": null,
      "outputs": []
    },
    {
      "cell_type": "code",
      "source": [
        "df['Station.State'].unique()"
      ],
      "metadata": {
        "colab": {
          "base_uri": "https://localhost:8080/"
        },
        "id": "OdT7U8640_Rq",
        "outputId": "14573464-6857-4066-c4ee-d58a3146fec8"
      },
      "execution_count": null,
      "outputs": [
        {
          "output_type": "execute_result",
          "data": {
            "text/plain": [
              "array(['Alabama', 'Alaska', 'Arizona', 'Arkansas', 'California',\n",
              "       'Colorado', 'Connecticut', 'Delaware', 'Florida', 'Georgia',\n",
              "       'Hawaii', 'Idaho', 'Illinois', 'Indiana', 'Iowa', 'Kansas',\n",
              "       'Kentucky', 'Louisiana', 'Maine', 'Maryland', 'Massachusetts',\n",
              "       'Michigan', 'Minnesota', 'Mississippi', 'Missouri', 'Montana',\n",
              "       'Nebraska', 'Nevada', 'New Hampshire', 'New Jersey', 'New Mexico',\n",
              "       'New York', 'North Carolina', 'North Dakota', 'Ohio', 'Oklahoma',\n",
              "       'Oregon', 'Pennsylvania', 'Puerto Rico', 'Rhode Island',\n",
              "       'South Carolina', 'South Dakota', 'Tennessee', 'Texas', 'Utah',\n",
              "       'Virginia', 'Vermont', 'Washington', 'West Virginia', 'Wisconsin',\n",
              "       'Wyoming'], dtype=object)"
            ]
          },
          "metadata": {},
          "execution_count": 7
        }
      ]
    },
    {
      "cell_type": "markdown",
      "source": [
        "## Hottest City in 2016"
      ],
      "metadata": {
        "id": "-JyRYyQK1OYv"
      }
    },
    {
      "cell_type": "code",
      "source": [
        "hottest_cities = df[['Data.Temperature.Max Temp','Station.City','Date.Full']].nlargest(1, \"Data.Temperature.Max Temp\", keep='all')\n",
        "for hottest_city in hottest_cities.itertuples():\n",
        "  print('{}, {}, {}'.format(hottest_city[1], hottest_city[2], datetime.strptime(hottest_city[3],'%Y-%m-%d').strftime('%B %d')))"
      ],
      "metadata": {
        "colab": {
          "base_uri": "https://localhost:8080/"
        },
        "id": "49iYEp1W1VMm",
        "outputId": "e3693be8-24e3-40f6-c4c1-0016445a52ac"
      },
      "execution_count": null,
      "outputs": [
        {
          "output_type": "stream",
          "name": "stdout",
          "text": [
            "111, China Lake, July 31\n",
            "111, Las Vegas, July 31\n"
          ]
        }
      ]
    },
    {
      "cell_type": "markdown",
      "source": [
        "## Highest Wind Speed for Each State"
      ],
      "metadata": {
        "id": "AbMyexDO64ZL"
      }
    },
    {
      "cell_type": "code",
      "source": [
        "highest_windspeed_states = df.groupby('Station.State')['Data.Wind.Speed'].max()\n",
        "for highest_windspeed_state in highest_windspeed_states.iteritems():\n",
        "  print('{}: {}'.format(highest_windspeed_state[0], highest_windspeed_state[1]))"
      ],
      "metadata": {
        "colab": {
          "base_uri": "https://localhost:8080/"
        },
        "id": "z6vjreNP7CIF",
        "outputId": "ec532dbc-acfa-4712-fc13-7ca88ed041fd"
      },
      "execution_count": null,
      "outputs": [
        {
          "output_type": "stream",
          "name": "stdout",
          "text": [
            "Alabama: 12.8\n",
            "Alaska: 27.58\n",
            "Arizona: 12.93\n",
            "Arkansas: 9.21\n",
            "California: 18.8\n",
            "Colorado: 13.3\n",
            "Connecticut: 13.46\n",
            "Delaware: 14.62\n",
            "Florida: 15.58\n",
            "Georgia: 13.25\n",
            "Hawaii: 19.22\n",
            "Idaho: 12.51\n",
            "Illinois: 14.43\n",
            "Indiana: 15.03\n",
            "Iowa: 14.33\n",
            "Kansas: 16.2\n",
            "Kentucky: 11.8\n",
            "Louisiana: 12.64\n",
            "Maine: 10.41\n",
            "Maryland: 11.01\n",
            "Massachusetts: 15.84\n",
            "Michigan: 13.33\n",
            "Minnesota: 14.41\n",
            "Mississippi: 13.17\n",
            "Missouri: 13.66\n",
            "Montana: 21.86\n",
            "Nebraska: 15.64\n",
            "Nevada: 16.47\n",
            "New Hampshire: 61.1\n",
            "New Jersey: 14.11\n",
            "New Mexico: 25.8\n",
            "New York: 15.71\n",
            "North Carolina: 13.12\n",
            "North Dakota: 17.5\n",
            "Ohio: 15.76\n",
            "Oklahoma: 16.08\n",
            "Oregon: 19.93\n",
            "Pennsylvania: 14.46\n",
            "Puerto Rico: 11.95\n",
            "Rhode Island: 13.8\n",
            "South Carolina: 12.2\n",
            "South Dakota: 16.87\n",
            "Tennessee: 9.72\n",
            "Texas: 20.3\n",
            "Utah: 11.15\n",
            "Vermont: 9.86\n",
            "Virginia: 15.72\n",
            "Washington: 11.4\n",
            "West Virginia: 12.13\n",
            "Wisconsin: 14.7\n",
            "Wyoming: 20.75\n"
          ]
        }
      ]
    },
    {
      "cell_type": "markdown",
      "source": [
        "## Top 10 Most Livable Cities"
      ],
      "metadata": {
        "id": "5-tINXr5-aZv"
      }
    },
    {
      "cell_type": "markdown",
      "source": [
        "In our scoring system, we will do something different. Our approach will be:\n",
        "\n",
        "Score cities based on different weather conditions for each season(Reduce points if it's too hot or too cold during seasons.). We will use Beaufort metrics for our wind speed scoring system(if a hurricane is possible, we will thoroughly remove the city from the livable list.) We also give high scores if precipitation is low."
      ],
      "metadata": {
        "id": "kJJO78Oi_m82"
      }
    },
    {
      "cell_type": "code",
      "source": [
        "df_cities = pd.DataFrame(df[\"Station.City\"].unique(),columns=['Station.City'])\n",
        "df_cities['Score'] = 0\n",
        "\n",
        "def helper(season,q):\n",
        "  match season:\n",
        "    case 'winter':\n",
        "      match q[1]:\n",
        "        case precipitation if 0 <= precipitation <= 5:\n",
        "          df_cities.loc[df_cities['Station.City'] == city[1], 'Score'] += 100\n",
        "        case precipitation if 6 <= precipitation <= 11:\n",
        "          df_cities.loc[df_cities['Station.City'] == city[1], 'Score'] += 10\n",
        "        case precipitation if precipitation >=12:\n",
        "          df_cities.loc[df_cities['Station.City'] == city[1], 'Score'] += (precipitation-11) * 50\n",
        "      match q[10]:\n",
        "        case temperature if 78 <= temperature <= 85:\n",
        "          df_cities.loc[df_cities['Station.City'] == city[1], 'Score'] += 10000\n",
        "        case temperature if temperature >= 85:\n",
        "          df_cities.loc[df_cities['Station.City'] == city[1], 'Score'] -= (temperature-85) * 500        \n",
        "        case _ as temperature:\n",
        "          df_cities.loc[df_cities['Station.City'] == city[1], 'Score'] += (temperature-39) * 500\n",
        "      match q[14]:\n",
        "        case wind_speed if 0 <= round(wind_speed) <= 7:\n",
        "          df_cities.loc[df_cities['Station.City'] == city[1], 'Score'] += 100\n",
        "        case wind_speed if 8 <= round(wind_speed) <= 12:\n",
        "          df_cities.loc[df_cities['Station.City'] == city[1], 'Score'] += 10\n",
        "        case wind_speed if 13 <= round(wind_speed) <= 18:\n",
        "          df_cities.loc[df_cities['Station.City'] == city[1], 'Score'] -= 10\n",
        "        case wind_speed if 19 <= round(wind_speed) <= 24:\n",
        "          df_cities.loc[df_cities['Station.City'] == city[1], 'Score'] -= 100\n",
        "        case wind_speed if 25 <= round(wind_speed) <= 31: \n",
        "          df_cities.loc[df_cities['Station.City'] == city[1], 'Score'] -= 200\n",
        "        case wind_speed if 32 <= round(wind_speed) <= 38: \n",
        "          df_cities.loc[df_cities['Station.City'] == city[1], 'Score'] -= 400\n",
        "        case wind_speed if 39 <= round(wind_speed) <= 46: \n",
        "          df_cities.loc[df_cities['Station.City'] == city[1], 'Score'] -= 1000\n",
        "        case wind_speed if 47 <= round(wind_speed) <= 54: \n",
        "          df_cities.loc[df_cities['Station.City'] == city[1], 'Score'] -= 5000\n",
        "        case wind_speed if 55 <= round(wind_speed) <= 63: \n",
        "          df_cities.loc[df_cities['Station.City'] == city[1], 'Score'] -= 10000\n",
        "        case wind_speed if round(wind_speed) >= 64: \n",
        "          df_cities.loc[df_cities['Station.City'] == city[1], 'Score'] = float('-inf')\n",
        "    case 'summer':\n",
        "      match q[1]:  \n",
        "        case precipitation if 0 <= precipitation <= 5:\n",
        "          df_cities.loc[df_cities['Station.City'] == city[1], 'Score'] += 100\n",
        "        case precipitation if 6 <= precipitation <= 11:\n",
        "          df_cities.loc[df_cities['Station.City'] == city[1], 'Score'] += 10\n",
        "        case precipitation if precipitation >=12:\n",
        "          df_cities.loc[df_cities['Station.City'] == city[1], 'Score'] += (precipitation-11) * -15\n",
        "      match q[10]:\n",
        "        case temperature if 78 <= temperature <= 85:\n",
        "          df_cities.loc[df_cities['Station.City'] == city[1], 'Score'] += 10000\n",
        "        case temperature if temperature >= 85:\n",
        "          df_cities.loc[df_cities['Station.City'] == city[1], 'Score'] -= (temperature-85) * 500        \n",
        "        case _ as temperature:\n",
        "          df_cities.loc[df_cities['Station.City'] == city[1], 'Score'] += (temperature-60) * 500\n",
        "      match q[14]:\n",
        "        case wind_speed if 0 <= round(wind_speed) <= 7:\n",
        "          df_cities.loc[df_cities['Station.City'] == city[1], 'Score'] += 100\n",
        "        case wind_speed if 8 <= round(wind_speed) <= 12:\n",
        "          df_cities.loc[df_cities['Station.City'] == city[1], 'Score'] += 1000\n",
        "        case wind_speed if 13 <= round(wind_speed) <= 18:\n",
        "          df_cities.loc[df_cities['Station.City'] == city[1], 'Score'] += 500\n",
        "        case wind_speed if 19 <= round(wind_speed) <= 24:\n",
        "          df_cities.loc[df_cities['Station.City'] == city[1], 'Score'] += 10\n",
        "        case wind_speed if 25 <= round(wind_speed) <= 31: \n",
        "          df_cities.loc[df_cities['Station.City'] == city[1], 'Score'] -= 10\n",
        "        case wind_speed if 32 <= round(wind_speed) <= 38: \n",
        "          df_cities.loc[df_cities['Station.City'] == city[1], 'Score'] -= 50\n",
        "        case wind_speed if 39 <= round(wind_speed) <= 46: \n",
        "          df_cities.loc[df_cities['Station.City'] == city[1], 'Score'] -= 500\n",
        "        case wind_speed if 47 <= round(wind_speed) <= 54: \n",
        "          df_cities.loc[df_cities['Station.City'] == city[1], 'Score'] -= 5000\n",
        "        case wind_speed if 55 <= round(wind_speed) <= 63: \n",
        "          df_cities.loc[df_cities['Station.City'] == city[1], 'Score'] -= 10000\n",
        "        case wind_speed if round(wind_speed) >= 64: \n",
        "          df_cities.loc[df_cities['Station.City'] == city[1], 'Score'] = float('-inf')\n",
        "    case 'fall':\n",
        "      match q[1]:\n",
        "        case precipitation if 0 <= precipitation <= 5:\n",
        "          df_cities.loc[df_cities['Station.City'] == city[1], 'Score'] += 100\n",
        "        case precipitation if 6 <= precipitation <= 11:\n",
        "          df_cities.loc[df_cities['Station.City'] == city[1], 'Score'] += 10\n",
        "        case precipitation if precipitation >=12:\n",
        "          df_cities.loc[df_cities['Station.City'] == city[1], 'Score'] += (precipitation-11) * -15\n",
        "      match q[10]:\n",
        "        case temperature if 78 <= temperature <= 85:\n",
        "          df_cities.loc[df_cities['Station.City'] == city[1], 'Score'] += 10000\n",
        "        case temperature if temperature >= 85:\n",
        "          df_cities.loc[df_cities['Station.City'] == city[1], 'Score'] -= (temperature-85) * 500        \n",
        "        case _ as temperature:\n",
        "          df_cities.loc[df_cities['Station.City'] == city[1], 'Score'] += (temperature-45) * 500\n",
        "      match q[14]:\n",
        "        case wind_speed if 0 <= round(wind_speed) <= 7:\n",
        "          df_cities.loc[df_cities['Station.City'] == city[1], 'Score'] += 100\n",
        "        case wind_speed if 8 <= round(wind_speed) <= 12:\n",
        "          df_cities.loc[df_cities['Station.City'] == city[1], 'Score'] += 10\n",
        "        case wind_speed if 13 <= round(wind_speed) <= 18:\n",
        "          df_cities.loc[df_cities['Station.City'] == city[1], 'Score'] -= 10\n",
        "        case wind_speed if 19 <= round(wind_speed) <= 24:\n",
        "          df_cities.loc[df_cities['Station.City'] == city[1], 'Score'] -= 50\n",
        "        case wind_speed if 25 <= round(wind_speed) <= 31: \n",
        "          df_cities.loc[df_cities['Station.City'] == city[1], 'Score'] -= 100\n",
        "        case wind_speed if 32 <= round(wind_speed) <= 38: \n",
        "          df_cities.loc[df_cities['Station.City'] == city[1], 'Score'] -= 300\n",
        "        case wind_speed if 39 <= round(wind_speed) <= 46: \n",
        "          df_cities.loc[df_cities['Station.City'] == city[1], 'Score'] -= 1000\n",
        "        case wind_speed if 47 <= round(wind_speed) <= 54: \n",
        "          df_cities.loc[df_cities['Station.City'] == city[1], 'Score'] -= 5000\n",
        "        case wind_speed if 55 <= round(wind_speed) <= 63: \n",
        "          df_cities.loc[df_cities['Station.City'] == city[1], 'Score'] -= 10000\n",
        "        case wind_speed if round(wind_speed) >= 64: \n",
        "          df_cities.loc[df_cities['Station.City'] == city[1], 'Score'] = float('-inf')\n",
        "    case 'spring':\n",
        "      match q[1]:\n",
        "        case precipitation if 0 <= precipitation <= 5:\n",
        "          df_cities.loc[df_cities['Station.City'] == city[1], 'Score'] += 100\n",
        "        case precipitation if 6 <= precipitation <= 11:\n",
        "          df_cities.loc[df_cities['Station.City'] == city[1], 'Score'] += 10\n",
        "        case precipitation if precipitation >=12:\n",
        "          df_cities.loc[df_cities['Station.City'] == city[1], 'Score'] += (precipitation-11) * -15\n",
        "      match q[10]:\n",
        "        case temperature if 78 <= temperature <= 85:\n",
        "          df_cities.loc[df_cities['Station.City'] == city[1], 'Score'] += 10000\n",
        "        case temperature if temperature >= 85:\n",
        "          df_cities.loc[df_cities['Station.City'] == city[1], 'Score'] -= (temperature-85) * 500        \n",
        "        case _ as temperature:\n",
        "          df_cities.loc[df_cities['Station.City'] == city[1], 'Score'] += (temperature-35) * 500\n",
        "      match q[14]:\n",
        "        case wind_speed if 0 <= round(wind_speed) <= 7:\n",
        "          df_cities.loc[df_cities['Station.City'] == city[1], 'Score'] += 100\n",
        "        case wind_speed if 8 <= round(wind_speed) <= 12:\n",
        "          df_cities.loc[df_cities['Station.City'] == city[1], 'Score'] += 500\n",
        "        case wind_speed if 13 <= round(wind_speed) <= 18:\n",
        "          df_cities.loc[df_cities['Station.City'] == city[1], 'Score'] += 200\n",
        "        case wind_speed if 19 <= round(wind_speed) <= 24:\n",
        "          df_cities.loc[df_cities['Station.City'] == city[1], 'Score'] -= 25\n",
        "        case wind_speed if 25 <= round(wind_speed) <= 31: \n",
        "          df_cities.loc[df_cities['Station.City'] == city[1], 'Score'] -= 50\n",
        "        case wind_speed if 32 <= round(wind_speed) <= 38: \n",
        "          df_cities.loc[df_cities['Station.City'] == city[1], 'Score'] -= 100\n",
        "        case wind_speed if 39 <= round(wind_speed) <= 46: \n",
        "          df_cities.loc[df_cities['Station.City'] == city[1], 'Score'] -= 700\n",
        "        case wind_speed if 47 <= round(wind_speed) <= 54: \n",
        "          df_cities.loc[df_cities['Station.City'] == city[1], 'Score'] -= 5000\n",
        "        case wind_speed if 55 <= round(wind_speed) <= 63: \n",
        "          df_cities.loc[df_cities['Station.City'] == city[1], 'Score'] -= 10000\n",
        "        case wind_speed if round(wind_speed) >= 64: \n",
        "          df_cities.loc[df_cities['Station.City'] == city[1], 'Score'] = float('-inf')\n",
        "\n",
        "\n",
        "for city in df_cities.itertuples():\n",
        "  query = df.loc[df['Station.City'] == city[1]]\n",
        "  cities_query = df_cities.loc[df_cities['Station.City'] == city[1]]\n",
        "  for q in query.itertuples():\n",
        "    match q[3]:\n",
        "      case 1:\n",
        "        helper('winter',q)\n",
        "      case 2:\n",
        "        helper('winter',q)\n",
        "      case 3:\n",
        "        helper('spring',q)\n",
        "      case 4:\n",
        "        helper('spring',q)\n",
        "      case 5:\n",
        "        helper('spring',q)\n",
        "      case 6:\n",
        "        helper('summer',q)\n",
        "      case 7:\n",
        "        helper('summer',q)      \n",
        "      case 8:\n",
        "        helper('summer',q)\n",
        "      case 9:\n",
        "        helper('fall',q)\n",
        "      case 10:\n",
        "        helper('fall',q)\n",
        "      case 11:\n",
        "        helper('fall',q)\n",
        "      case 12:\n",
        "        helper('winter',q)"
      ],
      "metadata": {
        "id": "P-qS97fS_msV"
      },
      "execution_count": null,
      "outputs": []
    },
    {
      "cell_type": "code",
      "source": [
        "best = df_cities.nlargest(10, 'Score', keep='all')\n",
        "for best in best.itertuples():\n",
        "  print('{}: {}'.format(best[1], best[2]))"
      ],
      "metadata": {
        "colab": {
          "base_uri": "https://localhost:8080/"
        },
        "id": "ygJVvqu-t-01",
        "outputId": "b7d98cef-d51f-4b37-d7ac-b900ccea21c7"
      },
      "execution_count": null,
      "outputs": [
        {
          "output_type": "stream",
          "name": "stdout",
          "text": [
            "Jackson: 921140.0\n",
            "Charleston: 873970.0\n",
            "Hilo: 816674.55\n",
            "Wilmington: 815770.0\n",
            "Columbia: 806170.0\n",
            "Kahului: 768440.0\n",
            "Kaunakakai: 761750.0\n",
            "Lihue: 744680.0\n",
            "Honolulu: 728570.0\n",
            "Fort Lauderdale: 711640.0\n"
          ]
        }
      ]
    }
  ]
}